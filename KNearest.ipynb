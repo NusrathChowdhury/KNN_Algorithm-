{
 "cells": [
  {
   "cell_type": "code",
   "execution_count": 6,
   "id": "10cfbd7f-8915-4d6a-8410-99fcb0428dd1",
   "metadata": {},
   "outputs": [
    {
     "name": "stdout",
     "output_type": "stream",
     "text": [
      "Predicted class: blue\n"
     ]
    }
   ],
   "source": [
    "import numpy as np\n",
    "from collections import Counter\n",
    "\n",
    "def knn(tdata, tlabels, testdata, neighbors=3):\n",
    "    predictions = []\n",
    "    for point in testdata:\n",
    "        dis= [np.linalg.norm(point - datapoint) for datapoint in tdata]\n",
    "        nearest_labels = [tlabels[i] for i in np.argsort(dis)[:neighbors]]\n",
    "        most_common_label = Counter(nearest_labels).most_common(1)[0][0]\n",
    "        predictions.append(most_common_label)\n",
    "    return predictions\n",
    "\n",
    "if __name__ == \"__main__\":\n",
    "    tdata = np.array([[10, 25], [40, 20], [50, 50], [25, 80], [60, 10], [70, 70], [60, 90]])\n",
    "    tlabels = np.array([\"red\", \"red\", \"blue\", \"blue\", \"red\", \"blue\", \"blue\"])\n",
    "    \n",
    "    testdata = np.array([[60, 90]]) \n",
    "    predictions = knn(tdata, tlabels, testdata, neighbors=3)\n",
    "    print(\"Predicted class:\", predictions[0])\n"
   ]
  },
  {
   "cell_type": "code",
   "execution_count": null,
   "id": "58211862-259c-4576-a416-936f7a8b6052",
   "metadata": {},
   "outputs": [],
   "source": []
  },
  {
   "cell_type": "code",
   "execution_count": null,
   "id": "1f2e5850-53f8-4eaf-817e-3f54db8c5908",
   "metadata": {},
   "outputs": [],
   "source": []
  },
  {
   "cell_type": "code",
   "execution_count": null,
   "id": "5da676a8-2eab-4dee-9375-6dfd6a7b2921",
   "metadata": {},
   "outputs": [],
   "source": []
  }
 ],
 "metadata": {
  "kernelspec": {
   "display_name": "Python 3 (ipykernel)",
   "language": "python",
   "name": "python3"
  },
  "language_info": {
   "codemirror_mode": {
    "name": "ipython",
    "version": 3
   },
   "file_extension": ".py",
   "mimetype": "text/x-python",
   "name": "python",
   "nbconvert_exporter": "python",
   "pygments_lexer": "ipython3",
   "version": "3.12.7"
  }
 },
 "nbformat": 4,
 "nbformat_minor": 5
}
